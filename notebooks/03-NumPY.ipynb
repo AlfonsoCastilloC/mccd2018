{
 "cells": [
  {
   "cell_type": "markdown",
   "metadata": {},
   "source": [
    "# NumPY - numpy"
   ]
  },
  {
   "cell_type": "markdown",
   "metadata": {},
   "source": [
    "* Manejo de arreglos multidimensionales\n",
    "* Integración con librerías en C y C++\n",
    "* Librerías de algebra lineal, transformada de fourier y numero aletarorios"
   ]
  },
  {
   "cell_type": "markdown",
   "metadata": {},
   "source": [
    "# Importar NumPy"
   ]
  },
  {
   "cell_type": "code",
   "execution_count": 2,
   "metadata": {
    "collapsed": true
   },
   "outputs": [],
   "source": [
    "import numpy as np"
   ]
  },
  {
   "cell_type": "markdown",
   "metadata": {},
   "source": [
    "* Es común usar _np_ en lugar de _numpy_"
   ]
  },
  {
   "cell_type": "markdown",
   "metadata": {},
   "source": [
    "# Arreglos\n",
    "\n",
    "* $\\mathbf x = [3, 4, 5, 7]$\n",
    "* $\\mathbf x_0 = 3$\n",
    "* $\\mathbf x_2 = 5$"
   ]
  },
  {
   "cell_type": "code",
   "execution_count": 34,
   "metadata": {},
   "outputs": [
    {
     "name": "stdout",
     "output_type": "stream",
     "text": [
      "3\n",
      "5\n",
      "32\n"
     ]
    },
    {
     "data": {
      "text/plain": [
       "[3, 4, 5, 7, 32, 'un elemento']"
      ]
     },
     "execution_count": 34,
     "metadata": {},
     "output_type": "execute_result"
    }
   ],
   "source": [
    "lst = [3, 4, 5, 7]\n",
    "print(lst[0])\n",
    "print(lst[2])\n",
    "lst.append(32)\n",
    "print(lst[-1])\n",
    "lst.append('un elemento')\n",
    "lst"
   ]
  },
  {
   "cell_type": "markdown",
   "metadata": {},
   "source": [
    "* Lo anterior son listas no arreglos"
   ]
  },
  {
   "cell_type": "code",
   "execution_count": 4,
   "metadata": {},
   "outputs": [
    {
     "name": "stdout",
     "output_type": "stream",
     "text": [
      "array('d', [3.0, 4.0, 5.0, 7.0, 32.0])\n"
     ]
    }
   ],
   "source": [
    "import array\n",
    "ar = array.array('d', lst)\n",
    "print(ar)"
   ]
  },
  {
   "cell_type": "markdown",
   "metadata": {},
   "source": [
    "* ¿Por qué usar NumPy?"
   ]
  },
  {
   "cell_type": "code",
   "execution_count": 6,
   "metadata": {},
   "outputs": [
    {
     "name": "stdout",
     "output_type": "stream",
     "text": [
      "[10  3  4  5  7]\n"
     ]
    }
   ],
   "source": [
    "ar = np.array([10, 3, 4, 5, 7])\n",
    "print(ar)"
   ]
  },
  {
   "cell_type": "markdown",
   "metadata": {},
   "source": [
    "# Mínimo"
   ]
  },
  {
   "cell_type": "code",
   "execution_count": 9,
   "metadata": {},
   "outputs": [
    {
     "data": {
      "text/plain": [
       "(3, 3)"
      ]
     },
     "execution_count": 9,
     "metadata": {},
     "output_type": "execute_result"
    }
   ],
   "source": [
    "ar.min()\n",
    "lst = [10, 3, 4, 5, 7]\n",
    "min(lst), ar.min()"
   ]
  },
  {
   "cell_type": "markdown",
   "metadata": {},
   "source": [
    "# Máximo"
   ]
  },
  {
   "cell_type": "code",
   "execution_count": 10,
   "metadata": {},
   "outputs": [
    {
     "data": {
      "text/plain": [
       "10"
      ]
     },
     "execution_count": 10,
     "metadata": {},
     "output_type": "execute_result"
    }
   ],
   "source": [
    "ar.max()"
   ]
  },
  {
   "cell_type": "markdown",
   "metadata": {},
   "source": [
    "# Elementos únicos"
   ]
  },
  {
   "cell_type": "markdown",
   "metadata": {},
   "source": [
    "## Generar un problema simple de elementos únicos"
   ]
  },
  {
   "cell_type": "code",
   "execution_count": 15,
   "metadata": {},
   "outputs": [],
   "source": [
    "import random\n",
    "lst = [random.randint(0, 3) for _ in range(100)]"
   ]
  },
  {
   "cell_type": "markdown",
   "metadata": {},
   "source": [
    "* ¿Cuáles son los eleméntos únicos?  \n",
    "son [0, 1, 2, 3]\n",
    "* ¿Cuántos de cada uno?"
   ]
  },
  {
   "cell_type": "code",
   "execution_count": 32,
   "metadata": {},
   "outputs": [],
   "source": [
    "import collections\n",
    "ar = np.array(lst)\n",
    "np.unique(ar, return_counts=True)\n",
    "a = collections.Counter(lst)"
   ]
  },
  {
   "cell_type": "markdown",
   "metadata": {},
   "source": [
    "# Ordenar"
   ]
  },
  {
   "cell_type": "markdown",
   "metadata": {},
   "source": [
    "## Generar un problema"
   ]
  },
  {
   "cell_type": "code",
   "execution_count": 78,
   "metadata": {},
   "outputs": [
    {
     "data": {
      "text/plain": [
       "array([ 0.49820179,  0.15415397,  0.90349075,  0.79757188,  0.63732829,\n",
       "        0.40981566,  0.58248487,  0.75416821,  0.03868196,  0.68406278,\n",
       "        0.46064256,  0.82113122,  0.53689423,  0.31057057,  0.41724711,\n",
       "        0.98310521,  0.55122349,  0.7140592 ,  0.82026854,  0.41853001,\n",
       "        0.15326867,  0.83003134,  0.16631219,  0.86397814,  0.65857087,\n",
       "        0.41912406,  0.39397148,  0.19797055,  0.15991823,  0.27579065,\n",
       "        0.99233946,  0.33910411,  0.81662388,  0.28319706,  0.9812205 ,\n",
       "        0.24982238,  0.05991885,  0.52207851,  0.48747521,  0.53395356,\n",
       "        0.46562412,  0.18899783,  0.69865647,  0.79718346,  0.81609889,\n",
       "        0.16829673,  0.49469638,  0.7018872 ,  0.09456447,  0.16180681,\n",
       "        0.82409189,  0.7952438 ,  0.10531944,  0.79441856,  0.8895218 ,\n",
       "        0.95268669,  0.02522791,  0.90286908,  0.95965571,  0.1788986 ,\n",
       "        0.18600933,  0.26364847,  0.7142386 ,  0.52530349,  0.05751652,\n",
       "        0.03169541,  0.57603196,  0.78826113,  0.00571143,  0.88154515,\n",
       "        0.36858299,  0.51406836,  0.29851263,  0.31847069,  0.62560794,\n",
       "        0.50142101,  0.82993815,  0.86386216,  0.3389386 ,  0.29678481,\n",
       "        0.79916544,  0.79858541,  0.73700923,  0.55492199,  0.02181769,\n",
       "        0.33842678,  0.94700539,  0.25501162,  0.79298951,  0.66489666,\n",
       "        0.7250326 ,  0.52236284,  0.06084623,  0.46345319,  0.37752844,\n",
       "        0.95190866,  0.36619092,  0.48942345,  0.59367409,  0.38069293])"
      ]
     },
     "execution_count": 78,
     "metadata": {},
     "output_type": "execute_result"
    }
   ],
   "source": [
    "ar = np.array([random.random() for _ in range(100)])\n",
    "ar"
   ]
  },
  {
   "cell_type": "code",
   "execution_count": 46,
   "metadata": {},
   "outputs": [
    {
     "data": {
      "text/plain": [
       "array([ 0.00519606,  0.00568757,  0.01627118,  0.0174193 ,  0.02501975,\n",
       "        0.02816805,  0.04990692,  0.06135736,  0.06492586,  0.06888416,\n",
       "        0.07842574,  0.08935469,  0.10496602,  0.11042551,  0.12250701,\n",
       "        0.12314689,  0.12733493,  0.1408464 ,  0.15442895,  0.19034939,\n",
       "        0.21109001,  0.22498949,  0.23345021,  0.23689465,  0.23910492,\n",
       "        0.24029316,  0.25658434,  0.26976491,  0.27320679,  0.29621736,\n",
       "        0.30679226,  0.31112708,  0.31180485,  0.31558212,  0.32213276,\n",
       "        0.34330128,  0.34488729,  0.36408165,  0.371132  ,  0.3956571 ,\n",
       "        0.39917752,  0.426993  ,  0.43602196,  0.43929671,  0.43983296,\n",
       "        0.48047178,  0.48674053,  0.48713928,  0.49907752,  0.49923815,\n",
       "        0.50210874,  0.51677647,  0.51944885,  0.51967263,  0.53137955,\n",
       "        0.53829074,  0.5639367 ,  0.57513467,  0.58857854,  0.59660819,\n",
       "        0.60813386,  0.61260327,  0.62163535,  0.65393586,  0.66030028,\n",
       "        0.66891434,  0.69131639,  0.70163924,  0.70915042,  0.71006145,\n",
       "        0.71915814,  0.72545712,  0.74926337,  0.75240219,  0.7595091 ,\n",
       "        0.75992276,  0.77161094,  0.78099134,  0.79972795,  0.80926406,\n",
       "        0.81040264,  0.81288872,  0.81469246,  0.81872538,  0.8274795 ,\n",
       "        0.85580333,  0.85807509,  0.86209174,  0.86557506,  0.86798807,\n",
       "        0.86962409,  0.87715494,  0.88273155,  0.88739108,  0.93107068,\n",
       "        0.932459  ,  0.97044536,  0.9889285 ,  0.99358713,  0.9995431 ])"
      ]
     },
     "execution_count": 46,
     "metadata": {},
     "output_type": "execute_result"
    }
   ],
   "source": [
    "ar.sort()\n",
    "ar"
   ]
  },
  {
   "cell_type": "code",
   "execution_count": 60,
   "metadata": {},
   "outputs": [],
   "source": [
    "index = ar.argsort()\n",
    "b = ar[index]"
   ]
  },
  {
   "cell_type": "markdown",
   "metadata": {},
   "source": [
    "# Búsqueda en arreglos ordenados"
   ]
  },
  {
   "cell_type": "code",
   "execution_count": 66,
   "metadata": {},
   "outputs": [
    {
     "data": {
      "text/plain": [
       "0"
      ]
     },
     "execution_count": 66,
     "metadata": {},
     "output_type": "execute_result"
    }
   ],
   "source": [
    "c = b.searchsorted(0.15)\n",
    "b[c-2:c+2]\n",
    "ar.searchsorted(0.15)"
   ]
  },
  {
   "cell_type": "markdown",
   "metadata": {},
   "source": [
    "# Media"
   ]
  },
  {
   "cell_type": "code",
   "execution_count": 68,
   "metadata": {},
   "outputs": [
    {
     "data": {
      "text/plain": [
       "(0.49064298652678545, 0.49064298652678545)"
      ]
     },
     "execution_count": 68,
     "metadata": {},
     "output_type": "execute_result"
    }
   ],
   "source": [
    "np.mean(ar), np.mean(b)"
   ]
  },
  {
   "cell_type": "markdown",
   "metadata": {},
   "source": [
    "# Varianza"
   ]
  },
  {
   "cell_type": "code",
   "execution_count": 70,
   "metadata": {},
   "outputs": [
    {
     "data": {
      "text/plain": [
       "(0.066582136184334229, 0.066582136184334215)"
      ]
     },
     "execution_count": 70,
     "metadata": {},
     "output_type": "execute_result"
    }
   ],
   "source": [
    "np.var(ar), np.var(b)"
   ]
  },
  {
   "cell_type": "markdown",
   "metadata": {},
   "source": [
    "# Desviación Estandar"
   ]
  },
  {
   "cell_type": "code",
   "execution_count": 73,
   "metadata": {},
   "outputs": [
    {
     "data": {
      "text/plain": [
       "0.25803514525028221"
      ]
     },
     "execution_count": 73,
     "metadata": {},
     "output_type": "execute_result"
    }
   ],
   "source": [
    "np.std(ar)"
   ]
  },
  {
   "cell_type": "markdown",
   "metadata": {},
   "source": [
    "# Media geométrica"
   ]
  },
  {
   "cell_type": "code",
   "execution_count": 74,
   "metadata": {},
   "outputs": [
    {
     "data": {
      "text/plain": [
       "0.40053003647466434"
      ]
     },
     "execution_count": 74,
     "metadata": {},
     "output_type": "execute_result"
    }
   ],
   "source": [
    "from scipy.stats.mstats import gmean\n",
    "gmean(ar)"
   ]
  },
  {
   "cell_type": "markdown",
   "metadata": {},
   "source": [
    "# Media armónica"
   ]
  },
  {
   "cell_type": "code",
   "execution_count": 79,
   "metadata": {},
   "outputs": [
    {
     "data": {
      "text/plain": [
       "0.1673198865451789"
      ]
     },
     "execution_count": 79,
     "metadata": {},
     "output_type": "execute_result"
    }
   ],
   "source": [
    "from scipy.stats.mstats import hmean\n",
    "hmean(ar)"
   ]
  },
  {
   "cell_type": "markdown",
   "metadata": {},
   "source": [
    "# Ejemplos"
   ]
  },
  {
   "cell_type": "code",
   "execution_count": 85,
   "metadata": {},
   "outputs": [
    {
     "name": "stdout",
     "output_type": "stream",
     "text": [
      "Populating the interactive namespace from numpy and matplotlib\n"
     ]
    },
    {
     "data": {
      "image/png": "[encoded data removed]",
      "text/plain": [
       "<matplotlib.figure.Figure at 0x11b0d92b0>"
      ]
     },
     "metadata": {},
     "output_type": "display_data"
    }
   ],
   "source": [
    "%pylab inline\n",
    "muestra = np.random.uniform(size=1000)\n",
    "_ = hist(muestra)\n",
    "grid()"
   ]
  },
  {
   "cell_type": "code",
   "execution_count": 88,
   "metadata": {},
   "outputs": [
    {
     "data": {
      "image/png": "[encoded data removed]",
      "text/plain": [
       "<matplotlib.figure.Figure at 0x11b323438>"
      ]
     },
     "metadata": {},
     "output_type": "display_data"
    }
   ],
   "source": [
    "muestra = np.random.normal(size=1000)\n",
    "_ = hist(muestra)"
   ]
  },
  {
   "cell_type": "code",
   "execution_count": 92,
   "metadata": {},
   "outputs": [
    {
     "data": {
      "text/plain": [
       "(0.0076300689044926312,\n",
       " -3.2855179665290679,\n",
       " 2.8078102014083703,\n",
       " 1.010653413869897)"
      ]
     },
     "execution_count": 92,
     "metadata": {},
     "output_type": "execute_result"
    }
   ],
   "source": [
    "np.mean(muestra), muestra.min(), muestra.max(), np.std(muestra)"
   ]
  },
  {
   "cell_type": "markdown",
   "metadata": {},
   "source": [
    "# Estadísticas del titanic"
   ]
  },
  {
   "cell_type": "code",
   "execution_count": 99,
   "metadata": {},
   "outputs": [
    {
     "name": "stdout",
     "output_type": "stream",
     "text": [
      "['', 'PassengerId', 'Survived', 'Pclass', 'Sex', 'Age', 'SibSp', 'Parch', 'Fare', 'Cabin', 'Lname', 'NamePrefix'] 12\n",
      "['Pclass', 'Sex', 'Age', 'SibSp', 'Parch', 'Fare', 'Cabin', 'Lname', 'NamePrefix']\n"
     ]
    }
   ],
   "source": [
    "header = open('Titanic_codificado_train.csv').readline().strip().split(',')\n",
    "print(header, len(header))\n",
    "titanic = np.loadtxt('Titanic_codificado_train.csv',\n",
    "                     delimiter=',', skiprows=1)\n",
    "clase = titanic[:, 2]\n",
    "data = titanic[:, 3:]\n",
    "print(header[3:])"
   ]
  },
  {
   "cell_type": "markdown",
   "metadata": {},
   "source": [
    "## Sobrevivientes"
   ]
  },
  {
   "cell_type": "code",
   "execution_count": 103,
   "metadata": {},
   "outputs": [
    {
     "data": {
      "text/plain": [
       "array([ 0.61616162,  0.38383838])"
      ]
     },
     "execution_count": 103,
     "metadata": {},
     "output_type": "execute_result"
    }
   ],
   "source": [
    "_, c = np.unique(clase, return_counts=True)\n",
    "c / c.sum()"
   ]
  },
  {
   "cell_type": "markdown",
   "metadata": {},
   "source": [
    "## Sexo"
   ]
  },
  {
   "cell_type": "code",
   "execution_count": 104,
   "metadata": {},
   "outputs": [
    {
     "data": {
      "image/png": "[encoded data removed]",
      "text/plain": [
       "<matplotlib.figure.Figure at 0x11b205400>"
      ]
     },
     "metadata": {},
     "output_type": "display_data"
    }
   ],
   "source": [
    "_ = hist(data[:, 1])"
   ]
  },
  {
   "cell_type": "markdown",
   "metadata": {},
   "source": [
    "## Edad"
   ]
  },
  {
   "cell_type": "code",
   "execution_count": 105,
   "metadata": {},
   "outputs": [
    {
     "data": {
      "image/png": "[encoded data removed]",
      "text/plain": [
       "<matplotlib.figure.Figure at 0x11b3c05c0>"
      ]
     },
     "metadata": {},
     "output_type": "display_data"
    }
   ],
   "source": [
    "_ = hist(data[:, 2])"
   ]
  },
  {
   "cell_type": "markdown",
   "metadata": {},
   "source": [
    "* ¿Cuántas mujeres sobrevivieron?\n",
    "* ¿Cuáles eran sus edades?"
   ]
  },
  {
   "cell_type": "code",
   "execution_count": 119,
   "metadata": {
    "scrolled": true
   },
   "outputs": [
    {
     "name": "stdout",
     "output_type": "stream",
     "text": [
      "[ 0.25796178  0.74203822]\n",
      "[ 0.81109185  0.18890815]\n"
     ]
    }
   ],
   "source": [
    "genero = data[:, 1]\n",
    "mask = genero == 0\n",
    "_, count = np.unique(clase[mask], return_counts=True)\n",
    "print(count / count.sum())\n",
    "_, count = np.unique(clase[~mask], return_counts=True)\n",
    "print(count / count.sum())"
   ]
  },
  {
   "cell_type": "code",
   "execution_count": 122,
   "metadata": {},
   "outputs": [
    {
     "data": {
      "text/plain": [
       "(array([ 16.,   5.,   8.,   0.,   0.,  13.,   0.,   9.,  17.,  13.]),\n",
       " array([ 0. ,  0.7,  1.4,  2.1,  2.8,  3.5,  4.2,  4.9,  5.6,  6.3,  7. ]),\n",
       " <a list of 10 Patch objects>)"
      ]
     },
     "execution_count": 122,
     "metadata": {},
     "output_type": "execute_result"
    },
    {
     "data": {
      "image/png": "[encoded data removed]",
      "text/plain": [
       "<matplotlib.figure.Figure at 0x11b0df240>"
      ]
     },
     "metadata": {},
     "output_type": "display_data"
    }
   ],
   "source": [
    "edad = data[:, 2]\n",
    "edad_mujer = edad[mask]\n",
    "clase_mujer = clase[mask]\n",
    "hist(edad_mujer[clase_mujer == 0])"
   ]
  },
  {
   "cell_type": "code",
   "execution_count": 123,
   "metadata": {},
   "outputs": [
    {
     "data": {
      "text/plain": [
       "(array([ 54.,  16.,   3.,   0.,   3.,  41.,   0.,  27.,  36.,  53.]),\n",
       " array([ 0. ,  0.7,  1.4,  2.1,  2.8,  3.5,  4.2,  4.9,  5.6,  6.3,  7. ]),\n",
       " <a list of 10 Patch objects>)"
      ]
     },
     "execution_count": 123,
     "metadata": {},
     "output_type": "execute_result"
    },
    {
     "data": {
      "image/png": "[encoded data removed]",
      "text/plain": [
       "<matplotlib.figure.Figure at 0x11b4dd550>"
      ]
     },
     "metadata": {},
     "output_type": "display_data"
    }
   ],
   "source": [
    "hist(edad_mujer[clase_mujer == 1])"
   ]
  },
  {
   "cell_type": "code",
   "execution_count": 129,
   "metadata": {},
   "outputs": [
    {
     "data": {
      "text/plain": [
       "(12, -23)"
      ]
     },
     "execution_count": 129,
     "metadata": {},
     "output_type": "execute_result"
    }
   ],
   "source": [
    "a, b = 12, -23\n",
    "a, b\n",
    "c = np.array([12, -23])\n",
    "a, b = c\n",
    "a, b"
   ]
  },
  {
   "cell_type": "markdown",
   "metadata": {},
   "source": [
    "# Vectores - suma"
   ]
  },
  {
   "cell_type": "code",
   "execution_count": null,
   "metadata": {
    "collapsed": true
   },
   "outputs": [],
   "source": []
  },
  {
   "cell_type": "markdown",
   "metadata": {},
   "source": [
    "# Vectores - producto"
   ]
  },
  {
   "cell_type": "code",
   "execution_count": null,
   "metadata": {
    "collapsed": true
   },
   "outputs": [],
   "source": []
  },
  {
   "cell_type": "markdown",
   "metadata": {},
   "source": [
    "# Arreglos - producto"
   ]
  },
  {
   "cell_type": "code",
   "execution_count": null,
   "metadata": {
    "collapsed": true
   },
   "outputs": [],
   "source": []
  }
 ],
 "metadata": {
  "kernelspec": {
   "display_name": "Python 3",
   "language": "python",
   "name": "python3"
  },
  "language_info": {
   "codemirror_mode": {
    "name": "ipython",
    "version": 3
   },
   "file_extension": ".py",
   "mimetype": "text/x-python",
   "name": "python",
   "nbconvert_exporter": "python",
   "pygments_lexer": "ipython3",
   "version": "3.6.4"
  }
 },
 "nbformat": 4,
 "nbformat_minor": 2
}

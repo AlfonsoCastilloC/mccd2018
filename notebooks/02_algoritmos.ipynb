{
 "cells": [
  {
   "cell_type": "markdown",
   "metadata": {
    "slideshow": {
     "slide_type": "slide"
    }
   },
   "source": [
    "# Breve introducción al análisis de algoritmos #\n",
    "\n",
    "Nos sirve para el costo o dificultad de un problema o algoritmo para con una entrada dada. También se le suele llamar **complejidad computacional**.\n",
    "\n",
    "\n",
    "Queremos medir la complejidad computacional para:\n",
    "\n",
    "- **Conocer** si es posible mejorar un algoritmo para un problema dado\n",
    "- **Decidir** que algoritmo nos conviene para una *clase* de entrada\n",
    "\n",
    "En general, lo que se pretende es **contar** los recursos necesarios para resolver un problema o para correr un algoritmo.\n",
    "Para esto debemos aislar la operación o recurso básico a contar ya que suele ser MUY complicado hacerlo para todos los recursos involucrados.\n",
    "A esto se le suele llamar **modelo de computación**.\n"
   ]
  },
  {
   "cell_type": "markdown",
   "metadata": {
    "slideshow": {
     "slide_type": "slide"
    }
   },
   "source": [
    "# Tipos de costo\n",
    "## Sobre a qué se aplica\n",
    "- Costo de un problema\n",
    "- Costo de un algoritmo\n",
    "- Costo dependiente de los datos:\n",
    "    - una clase bien caracterizada de instancias\n",
    "    - una instancia particular\n",
    "\n",
    "## Sobre cómo se calcula\n",
    "- Análisis de *mejor* y *peor* caso\n",
    "- Análisis promedio\n",
    "- Análisis amortizado"
   ]
  },
  {
   "cell_type": "markdown",
   "metadata": {
    "slideshow": {
     "slide_type": "slide"
    }
   },
   "source": [
    "## Costo computacional ##\n",
    "\n",
    "- *Enfoque analítico*: Consiste en crear un modelo analítico para *predecir cuanto nos costaría* aplicar un algoritmo a una entrada dada, sin tener que ejecutarlo. Ej.\n",
    "\n",
    "- *Enfoque experimental*: Mide directamente el desempeño de un algoritmo utilizando diferentes entradas. Ejemplo:\n",
    "  - Medir el tiempo real que se utiliza para completar una serie de corridas bien caracterizadas\n",
    "  - Medir la cantidad de memoria alojada por un proceso\n"
   ]
  },
  {
   "cell_type": "markdown",
   "metadata": {
    "slideshow": {
     "slide_type": "slide"
    }
   },
   "source": [
    "Recordemos que una mejorá de $k$ veces en el desempeño tiene efectos interesantes:\n",
    "\n",
    "- nos puede ahorrar en un factor $\\sim{k}$ veces en infraestructura y operación\n",
    "- nos puede permitir procesar $k$ veces más información en el mismo tiempo.\n",
    "\n",
    "El costo no siempre esta asociado directamente con el tiempo, también puede referirse a la memoria\n",
    "\n",
    "***\n",
    "*una mejora en la complejidad de un algoritmo puede significar tener la capacidad de manejar problemas más grandes o a más detalle.*\n",
    "***"
   ]
  },
  {
   "cell_type": "markdown",
   "metadata": {
    "slideshow": {
     "slide_type": "slide"
    }
   },
   "source": [
    "\n",
    "## Costo como función del tamaño de entrada ##\n",
    "Es muy común caracterizar un algoritmo utilizando el tamaño de la entrada, suele ser útil para costos de peor caso. Ej.\n",
    "\n",
    "\n",
    "## Costo como función de la distribución de los datos ##\n",
    "\n",
    "\n",
    "# Comparación\n",
    "## Notación asimptótica\n",
    "### $\\Theta(n)$\n",
    "Para una función dada $g(n)$ se denota $\\Theta(g(n))$ al conjunto de funciones<br/>\n",
    "$ \\Theta(g(n)) = \\{f(n): \\text{existen las constantes positivas } c_1, c_2, n_0 \\text{ tal que } 0 \\leq c_1 g(n) \\leq f(n) \\leq c_2 g(n) \\text{ para todo } n \\geq n_0 \\}$\n",
    "### $O(n)$\n",
    "Dada la función $g(n)$, $O(g(n))$ esta definida como el conjunto de funciones<br/>\n",
    "$ O(g(n)) = \\{f(n): \\text{existen las constantes positivas } c, n_0 \\text{ tal que } 0 \\leq f(n) \\leq c g(n) \\text{ para todo } n \\geq n_0 \\}$\n",
    "\n",
    "### $\\Omega(n)$\n",
    "Dada la función $g(n)$, $\\Omega(g(n))$ esta definida como el conjunto de funciones<br/>\n",
    "$\\Omega(g(n)) = \\{f(n): \\text{existen las constantes positivas } c, n_0 \\text{ tal que } 0 \\leq c g(n) \\leq f(n) \\text{ para todo } n \\geq n_0 \\}$\n",
    "\n",
    "## Notación asimptótica no _ajustada_\n",
    "Tanto $O$ como $\\Omega$ describen conjuntos de funciones que pueden estar ajustados o no a $g(n)$ de manera asimptótica. Cuando es necesario describir costos donde no hay posibilidad que $f(n)$ se _acerque_ a $g(n)$ después de cierto $n_0$ se suelen utilizar las siguientes variantes:\n",
    "\n",
    "- $o(g(n)) = \\{f(n): \\text{para todas las constantes positivas } c > 0 \\text{, existe una constante }n_0 > 0 \\text{ tal que } 0 \\leq f(n) \\leq c g(n) \\text{ para todo } n \\geq n_0 \\}$\n",
    "- $\\omega(g(n)) = \\{f(n): \\text{para todas las constantes positivas } c > 0 \\text{, existe una constante }n_0 > 0 \\text{ tal que } 0 \\leq c g(n) \\leq f(n) \\text{ para todo } n \\geq n_0 \\}$\n"
   ]
  },
  {
   "cell_type": "markdown",
   "metadata": {
    "slideshow": {
     "slide_type": "slide"
    }
   },
   "source": [
    "## Ejemplos:\n",
    "- Considere un arreglo de números enteros $A[1,n]$, no se puede asumir nada más\n",
    "    - Cálcule el costo de probar si $x$ esta en $A$\n",
    "    - Costo de seleccionar el valor máximo y el valor mínimo de $A$\n",
    "    - Cálcule el costo dw calcular la media y la mediana\n",
    "    - Suponga que $A$ cumple con la propiedad $A[i] < A[i+1] \\forall i \\in [1,n-1]$\n",
    "        - ¿Cuánto cuesta evaluar si $x$ esta en $A$?\n",
    "    - Suponga que la propiedad anterior no se encuentra en lo general en $A$, pero queremos inducirla\n",
    "        - ¿Cuánto nos costaría? Suponga como operación básica la comparación.\n",
    "\n",
    "- Considere un arreglo de simbolos $A[1,n]$ y $B[1,m]$, el problema de búsqueda de cadenas reposponde de manera eficiente $B$ es subcadena de $A$\n",
    "    - Búsqueda exhaustiva de $B$ en $A$ \n",
    "    - ¿Se puede hacer mejor?\n",
    "## Tarea\n",
    "    - Insertion sort, bubble sort, merge sort"
   ]
  }
 ],
 "metadata": {
  "celltoolbar": "Slideshow",
  "kernelspec": {
   "display_name": "Python 3",
   "language": "python",
   "name": "python3"
  },
  "language_info": {
   "codemirror_mode": {
    "name": "ipython",
    "version": 3
   },
   "file_extension": ".py",
   "mimetype": "text/x-python",
   "name": "python",
   "nbconvert_exporter": "python",
   "pygments_lexer": "ipython3",
   "version": "3.6.3"
  }
 },
 "nbformat": 4,
 "nbformat_minor": 2
}

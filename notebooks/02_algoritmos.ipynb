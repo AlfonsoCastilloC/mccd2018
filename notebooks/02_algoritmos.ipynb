{
 "cells": [
  {
   "cell_type": "markdown",
   "metadata": {},
   "source": [
    "# Breve introducción al análisis de algoritmos #\n",
    "\n",
    "Nos sirve para el costo o dificultad de un problema o algoritmo para con una entrada dada. También se le suele llamar **complejidad computacional**.\n",
    "\n",
    "\n",
    "Queremos medir la complejidad computacional para:\n",
    "\n",
    "- **Conocer** si es posible mejorar un algoritmo para un problema dado\n",
    "- **Decidir** que algoritmo nos conviene para una *clase* de entrada\n",
    "\n"
   ]
  },
  {
   "cell_type": "markdown",
   "metadata": {},
   "source": [
    "# Tipos de costo\n",
    "## Sobre a qué se aplica\n",
    "- Costo de un problema\n",
    "- Costo de un algoritmo\n",
    "- Costo de una instancia de un problema con un algoritmo\n",
    "\n",
    "## Sobre como se calcula\n",
    "- Costo de *mejor* y *peor* caso\n",
    "- Costo promedio\n",
    "- Costo amortizado"
   ]
  },
  {
   "cell_type": "markdown",
   "metadata": {},
   "source": [
    "## Costo computacional ##\n",
    "\n",
    "- *Enfoque analítico*: Consiste en crear un modelo analítico para *predecir cuanto nos costaría* aplicar un algoritmo a una entrada dada, sin tener que ejecutarlo. Ej.\n",
    "\n",
    "- *Enfoque experimental*: Mide directamente el desempeño de un algoritmo utilizando diferentes entradas. Ejemplo:\n",
    "  - Medir el tiempo real que se utiliza para completar una serie de corridas bien caracterizadas\n",
    "  - Medir la cantidad de memoria alojada por un proceso\n"
   ]
  },
  {
   "cell_type": "markdown",
   "metadata": {},
   "source": [
    "Recordemos que una mejorá de $k$ veces en el desempeño tiene efectos interesantes:\n",
    "\n",
    "- nos puede ahorrar en un factor $\\sim{k}$ veces en infraestructura y operación\n",
    "- nos puede permitir procesar $k$ veces más información en el mismo tiempo.\n",
    "\n",
    "El costo no siempre esta asociado directamente con el tiempo, también puede referirse a la memoria\n",
    "\n",
    "***\n",
    "*una mejora en la complejidad de un algoritmo puede significar tener la capacidad de manejar problemas más grandes o a más detalle.*\n",
    "***"
   ]
  },
  {
   "cell_type": "markdown",
   "metadata": {},
   "source": [
    "\n",
    "## Costo como función del tamaño de entrada ##\n",
    "Es muy común caracterizar un algoritmo utilizando el tamaño de la entrada, suele ser útil para costos de peor caso. Ej.\n",
    "\n",
    "\n",
    "## Costo como función de la distribución de los datos ##\n",
    "\n",
    "\n",
    "# Comparación\n",
    "## Big Oh -- O(n)\n",
    "![title](img/bigO.png)"
   ]
  }
 ],
 "metadata": {
  "kernelspec": {
   "display_name": "Python 3",
   "language": "python",
   "name": "python3"
  },
  "language_info": {
   "codemirror_mode": {
    "name": "ipython",
    "version": 3
   },
   "file_extension": ".py",
   "mimetype": "text/x-python",
   "name": "python",
   "nbconvert_exporter": "python",
   "pygments_lexer": "ipython3",
   "version": "3.6.3"
  }
 },
 "nbformat": 4,
 "nbformat_minor": 2
}
